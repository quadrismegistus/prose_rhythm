{
 "cells": [
  {
   "cell_type": "markdown",
   "metadata": {},
   "source": [
    "# Language article code"
   ]
  },
  {
   "cell_type": "markdown",
   "metadata": {},
   "source": [
    "## Generating parse data using slingshot and prosodic\n",
    "\n",
    "Calls on functions in the slingshot sling, [metrical_parsing.ipynb](https://github.com/quadrismegistus/slingshot/blob/master/slings/metrical_parsing.ipynb)."
   ]
  },
  {
   "cell_type": "markdown",
   "metadata": {},
   "source": [
    "### LSA Corpus (\"Six Authors\")"
   ]
  },
  {
   "cell_type": "markdown",
   "metadata": {},
   "source": [
    "#### Ngram"
   ]
  },
  {
   "cell_type": "code",
   "execution_count": 116,
   "metadata": {},
   "outputs": [],
   "source": [
    "#!slingshot -code metrical_parsing -func parse_by_ngram -path small_corpus/txt -ext txt -savedir small_corpus/data_slingshot/new_parse_by_ngram -overwrite -parallel 8\n",
    "\n"
   ]
  },
  {
   "cell_type": "markdown",
   "metadata": {},
   "source": [
    "#### Nsyll"
   ]
  },
  {
   "cell_type": "code",
   "execution_count": 117,
   "metadata": {},
   "outputs": [],
   "source": [
    "#!slingshot -code metrical_parsing -func parse_by_nsyll -path txt -ext txt -savedir small_corpus/data_slingshot/new_parse_by_nsyll -overwrite -parallel 8\n",
    "\n"
   ]
  },
  {
   "cell_type": "markdown",
   "metadata": {},
   "source": [
    "### AMP Corpus (Five Authors, Prose vs. Verse)"
   ]
  },
  {
   "cell_type": "markdown",
   "metadata": {},
   "source": [
    "#### Ngram"
   ]
  },
  {
   "cell_type": "code",
   "execution_count": 118,
   "metadata": {},
   "outputs": [],
   "source": [
    "#!slingshot -code metrical_parsing -func parse_by_ngram -path original_corpus/txt -ext txt -savedir original_corpus/data_slingshot/new_parse_by_ngram -overwrite -parallel 8\n",
    "\n"
   ]
  },
  {
   "cell_type": "markdown",
   "metadata": {},
   "source": [
    "#### Nsyll"
   ]
  },
  {
   "cell_type": "code",
   "execution_count": 119,
   "metadata": {},
   "outputs": [],
   "source": [
    "#!slingshot -code metrical_parsing -func parse_by_nsyll -path original_corpus/txt -ext txt -savedir original_corpus/data_slingshot/new_parse_by_nsyll -overwrite -parallel 8\n",
    "\n"
   ]
  },
  {
   "cell_type": "markdown",
   "metadata": {},
   "source": [
    "### Metadata"
   ]
  },
  {
   "cell_type": "code",
   "execution_count": 120,
   "metadata": {},
   "outputs": [],
   "source": [
    "folder2data = {}\n",
    "\n",
    "# v1\n",
    "# folder2data['small_corpus/data_slingshot/parse_by_ngram']={'corpus':'LSA', 'method':'ngram'}\n",
    "# folder2data['small_corpus/data_slingshot/parse_by_nsyll']={'corpus':'LSA','method':'nsyll'}\n",
    "# folder2data['original_corpus/data_slingshot/parse_by_ngram']={'corpus':'AMP','method':'ngram'}\n",
    "# folder2data['original_corpus/data_slingshot/parse_by_nsyll']={'corpus':'AMP','method':'nsyll'}\n",
    "\n",
    "# restraining windows to be within punctuation marks \n",
    "#folder2data['small_corpus/data_slingshot/parse_by_nsyll_withinphrase_2']={'corpus':'LSA','method':'nsyll','within_phrase':True}\n",
    "#folder2data['original_corpus/data_slingshot/parse_by_nsyll_withinphrase']={'corpus':'AMP','method':'nsyll','within_phrase':True}\n",
    "#folder2data['small_corpus/data_slingshot/parse_by_ngram_withinphrase']={'corpus':'LSA','method':'ngram','within_phrase':True}\n",
    "#folder2data['original_corpus/data_slingshot/parse_by_ngram_withinphrase']={'corpus':'AMP','method':'ngram','within_phrase':True}\n",
    "\n",
    "folder2data['small_corpus/data_slingshot/new_parse_by_nsyll']={'corpus':'LSA','method':'nsyll','within_phrase':True}\n",
    "folder2data['original_corpus/data_slingshot/new_parse_by_nsyll']={'corpus':'AMP','method':'nsyll','within_phrase':True}\n",
    "folder2data['small_corpus/data_slingshot/new_parse_by_ngram']={'corpus':'LSA','method':'ngram','within_phrase':True}\n",
    "folder2data['original_corpus/data_slingshot/new_parse_by_ngram']={'corpus':'AMP','method':'ngram','within_phrase':True}\n"
   ]
  },
  {
   "cell_type": "markdown",
   "metadata": {},
   "source": [
    "## Postprocessing"
   ]
  },
  {
   "cell_type": "code",
   "execution_count": 121,
   "metadata": {},
   "outputs": [],
   "source": [
    "import pandas as pd,os\n",
    "import mpi_slingshot as sl"
   ]
  },
  {
   "cell_type": "code",
   "execution_count": 122,
   "metadata": {},
   "outputs": [],
   "source": [
    "def path2meta_LSA(path):\n",
    "    fn=os.path.splitext(os.path.basename(path))[0]\n",
    "    author,text_type=fn.split('-')\n",
    "    genre='prose' if not 'shakespeare' in fn else 'verse'\n",
    "    return {'author':author, 'text_type':text_type, 'id':fn, 'genre':genre,'lang':'en','title':''}"
   ]
  },
  {
   "cell_type": "code",
   "execution_count": 123,
   "metadata": {},
   "outputs": [],
   "source": [
    "def path2meta_AMP(path):\n",
    "    #print(path.split('.'))\n",
    "    lang,genre,author,title,_ = path.split('.')\n",
    "    fn=os.path.splitext(os.path.basename(path))[0]\n",
    "    text_type='O'\n",
    "    genre = genre if genre!='poetry' else 'verse'\n",
    "    return {'author':author, 'text_type':text_type, 'id':fn, 'lang':lang, 'genre':genre, 'title':title}"
   ]
  },
  {
   "cell_type": "code",
   "execution_count": 124,
   "metadata": {},
   "outputs": [],
   "source": [
    "def writegen_folder(ifolder,ifolder_data):\n",
    "    if not '/cache' in ifolder: ifolder=os.path.join(ifolder,'cache')\n",
    "        \n",
    "    path2meta = globals()[\"path2meta_\"+ifolder_data['corpus']]\n",
    "        \n",
    "    for path,path_ld in sl.stream_results(ifolder):\n",
    "        if not path.endswith('.txt'): continue\n",
    "        if 'ipynb_checkpoints' in path: continue\n",
    "        path_meta = path2meta(path)\n",
    "\n",
    "        for path_dx in path_ld:\n",
    "            row_dx=dict( list(ifolder_data.items()) + list(path_meta.items()) + list(path_dx.items()))\n",
    "            yield row_dx"
   ]
  },
  {
   "cell_type": "code",
   "execution_count": 125,
   "metadata": {},
   "outputs": [],
   "source": [
    "def writegen():\n",
    "    import os\n",
    "    for fldr,fldr_data in folder2data.items():\n",
    "        for dx in writegen_folder(fldr,fldr_data):\n",
    "            dx['method']=os.path.basename(fldr).replace('_2','').replace('parse_by_','')\n",
    "            yield dx"
   ]
  },
  {
   "cell_type": "code",
   "execution_count": 126,
   "metadata": {},
   "outputs": [],
   "source": [
    "#sl.writegen('data.parse_by_ngram.txt', lambda: writegen_folder(folder_output1))\n",
    "#sl.writegen('data.parse_by_nsyll.txt', lambda: writegen_folder(folder_output2))"
   ]
  },
  {
   "cell_type": "code",
   "execution_count": 127,
   "metadata": {},
   "outputs": [],
   "source": [
    "# # ??\n",
    "# os.chdir('/Users/ryan/Dropbox/PHD/Prose-Verse/experiments/language_article')\n",
    "# !pwd"
   ]
  },
  {
   "cell_type": "code",
   "execution_count": null,
   "metadata": {},
   "outputs": [],
   "source": []
  },
  {
   "cell_type": "code",
   "execution_count": 128,
   "metadata": {},
   "outputs": [
    {
     "name": "stderr",
     "output_type": "stream",
     "text": [
      "100%|██████████| 3/3 [00:00<00:00,  5.65it/s]\n",
      "100%|██████████| 3/3 [00:00<00:00,  8.50it/s]\n",
      "100%|██████████| 2/2 [00:00<00:00, 10.02it/s]\n",
      "100%|██████████| 2/2 [00:00<00:00,  6.46it/s]\n",
      "100%|██████████| 2/2 [00:00<00:00,  4.25it/s]\n",
      "100%|██████████| 2/2 [00:00<00:00,  5.69it/s]\n",
      "100%|██████████| 2/2 [00:00<00:00,  6.67it/s]\n",
      "100%|██████████| 2/2 [00:00<00:00,  7.70it/s]\n",
      "100%|██████████| 2/2 [00:00<00:00,  6.07it/s]\n",
      "100%|██████████| 2/2 [00:00<00:00,  5.07it/s]\n",
      "100%|██████████| 2/2 [00:00<00:00,  7.44it/s]\n",
      "100%|██████████| 2/2 [00:00<00:00,  8.93it/s]\n",
      "100%|██████████| 2/2 [00:00<00:00,  7.40it/s]\n",
      "100%|██████████| 2/2 [00:00<00:00,  7.50it/s]\n",
      "100%|██████████| 2/2 [00:00<00:00,  5.29it/s]\n",
      "100%|██████████| 1/1 [00:00<00:00,  5.27it/s]\n",
      "100%|██████████| 4/4 [00:00<00:00,  5.38it/s]\n",
      "100%|██████████| 2/2 [00:00<00:00,  5.38it/s]\n",
      "100%|██████████| 2/2 [00:00<00:00,  5.24it/s]\n",
      "100%|██████████| 2/2 [00:00<00:00,  5.15it/s]\n",
      "100%|██████████| 2/2 [00:00<00:00,  5.39it/s]\n",
      "100%|██████████| 2/2 [00:00<00:00,  5.23it/s]\n",
      "100%|██████████| 2/2 [00:00<00:00,  5.47it/s]\n",
      "100%|██████████| 2/2 [00:00<00:00,  4.84it/s]\n",
      "100%|██████████| 2/2 [00:00<00:00,  8.91it/s]\n",
      "100%|██████████| 2/2 [00:00<00:00,  5.37it/s]\n",
      "100%|██████████| 2/2 [00:00<00:00,  5.43it/s]\n",
      "100%|██████████| 2/2 [00:00<00:00,  5.29it/s]\n",
      "100%|██████████| 2/2 [00:00<00:00,  5.90it/s]\n",
      "100%|██████████| 2/2 [00:00<00:00,  5.53it/s]\n",
      "100%|██████████| 2/2 [00:00<00:00,  5.52it/s]\n",
      "100%|██████████| 1/1 [00:00<00:00,  5.46it/s]\n"
     ]
    },
    {
     "name": "stdout",
     "output_type": "stream",
     "text": [
      ">> saved: data.parse_multi_methods.txt\n"
     ]
    }
   ],
   "source": [
    "sl.writegen('data.parse_multi_methods.txt', writegen)"
   ]
  },
  {
   "cell_type": "code",
   "execution_count": null,
   "metadata": {},
   "outputs": [],
   "source": []
  },
  {
   "cell_type": "code",
   "execution_count": 130,
   "metadata": {},
   "outputs": [
    {
     "name": "stdout",
     "output_type": "stream",
     "text": [
      "  271640 data.parse_multi_methods.txt\n"
     ]
    }
   ],
   "source": [
    "!wc -l data.parse_multi_methods.txt"
   ]
  },
  {
   "cell_type": "code",
   "execution_count": null,
   "metadata": {},
   "outputs": [],
   "source": []
  },
  {
   "cell_type": "code",
   "execution_count": null,
   "metadata": {},
   "outputs": [],
   "source": []
  },
  {
   "cell_type": "code",
   "execution_count": null,
   "metadata": {},
   "outputs": [],
   "source": []
  }
 ],
 "metadata": {
  "kernelspec": {
   "display_name": "Python 3",
   "language": "python",
   "name": "python3"
  },
  "language_info": {
   "codemirror_mode": {
    "name": "ipython",
    "version": 3
   },
   "file_extension": ".py",
   "mimetype": "text/x-python",
   "name": "python",
   "nbconvert_exporter": "python",
   "pygments_lexer": "ipython3",
   "version": "3.6.8"
  }
 },
 "nbformat": 4,
 "nbformat_minor": 2
}
